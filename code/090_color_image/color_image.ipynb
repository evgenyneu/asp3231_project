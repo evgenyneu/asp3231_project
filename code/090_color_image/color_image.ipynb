{
 "cells": [
  {
   "cell_type": "markdown",
   "metadata": {},
   "source": [
    "# Creating color image for NGC 3201"
   ]
  },
  {
   "cell_type": "markdown",
   "metadata": {},
   "source": [
    "Written by Evgenii N.\n",
    "\n",
    "I use DS9 to make a false color image of NGC 3201, shown on Fig. 231."
   ]
  },
  {
   "cell_type": "markdown",
   "metadata": {},
   "source": [
    "![Colored image of NGC 3291](images/color3.png)\n",
    "\n",
    "Figure 231: False color image of NGC 3201 made in DS9 from I, V and B images."
   ]
  },
  {
   "cell_type": "markdown",
   "metadata": {},
   "source": [
    "## How I made a color image in DS9\n",
    "\n",
    "* Frame > RGB.\n",
    "\n",
    "* In the small RGB panel, select \"Red\", as shown in Fig. 232.\n",
    "\n",
    "![RGB panel in DS 9](images/ds9_rgb_panel.jpg)\n",
    "\n",
    "Figure 232: RGB panel in DS 9.\n",
    "\n",
    "* File > Open > Select `code/050_scaling_and_combining/march_09_2018_stacked/NGC_3201_I_median_60.0s.fits`.\n",
    "\n",
    "* In the small RGB panel, select \"Green\", as shown in Fig. 232.\n",
    "\n",
    "* File > Open > Select `code/050_scaling_and_combining/march_09_2018_stacked/NGC_3201_V_median_60.0s.fits`.\n",
    "\n",
    "* In the small RGB panel, select \"Blue\", as shown in Fig. 232.\n",
    "\n",
    "* File > Open > Select `code/050_scaling_and_combining/march_09_2018_stacked/NGC_3201_B_median_60.0s.fits`."
   ]
  },
  {
   "cell_type": "markdown",
   "metadata": {},
   "source": [
    "### Adjusting brightness of RGB channels\n",
    "\n",
    "Now you can see a color image. I fine-tuned the brightness of each channel separately. For example, to change Red channel:\n",
    "\n",
    "* Select \"Red\" on RGB pannel.\n",
    "\n",
    "* Click Scale button, select Log and \"min max\". Using two-finger swipe on track pad (On MacBook Pro): swipe left-right to change brightness, switpe up-down to change contrast.\n",
    "\n",
    "\n",
    "### Save image as PNG\n",
    "\n",
    "When you are happy with color, save the image with File > Export > PNG menu."
   ]
  },
  {
   "cell_type": "markdown",
   "metadata": {},
   "source": [
    "## View from a spaceship view\n",
    "\n",
    "![Spaceship view](images/spaceshit.jpg)\n",
    "\n",
    "Figure 323: Image of the galaxy from a spaceship. Cockpit image source: https://www.pngguru.com/free-transparent-background-png-clipart-nprbv"
   ]
  },
  {
   "cell_type": "code",
   "execution_count": null,
   "metadata": {},
   "outputs": [],
   "source": []
  }
 ],
 "metadata": {
  "kernelspec": {
   "display_name": "Python 3",
   "language": "python",
   "name": "python3"
  },
  "language_info": {
   "codemirror_mode": {
    "name": "ipython",
    "version": 3
   },
   "file_extension": ".py",
   "mimetype": "text/x-python",
   "name": "python",
   "nbconvert_exporter": "python",
   "pygments_lexer": "ipython3",
   "version": "3.7.4"
  }
 },
 "nbformat": 4,
 "nbformat_minor": 4
}
