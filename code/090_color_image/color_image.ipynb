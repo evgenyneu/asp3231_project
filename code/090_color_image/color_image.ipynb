{
 "cells": [
  {
   "cell_type": "markdown",
   "metadata": {},
   "source": [
    "# Creating color image for NGC 3201"
   ]
  },
  {
   "cell_type": "markdown",
   "metadata": {},
   "source": [
    "Written by Evgenii N."
   ]
  },
  {
   "cell_type": "markdown",
   "metadata": {},
   "source": [
    "## Prerequisite code"
   ]
  },
  {
   "cell_type": "code",
   "execution_count": 1,
   "metadata": {},
   "outputs": [],
   "source": [
    "# Import libraries that we will use later in this notebook\n",
    "import os\n",
    "import matplotlib.pyplot as plt\n",
    "import pandas as pd\n",
    "import numpy as np\n",
    "import subprocess\n",
    "import shutil\n",
    "import re\n",
    "from io import StringIO\n",
    "from shutil import copyfile\n",
    "from shutil import which\n",
    "from ccdproc import CCDData\n",
    "from photutils.aperture import CircularAperture\n",
    "from astropy.visualization import ZScaleInterval, MinMaxInterval, ImageNormalize\n",
    "\n",
    "# Make images non-blurry on high pixel density screens\n",
    "%config InlineBackend.figure_format = 'retina'\n",
    "\n",
    "\n",
    "def set_plot_style():\n",
    "    \"\"\"Set global style\"\"\"\n",
    "    \n",
    "    SMALL_SIZE = 13\n",
    "    NORMAL_SIZE = 15\n",
    "    LARGE_SIZE = 17\n",
    "\n",
    "    # Title size\n",
    "    plt.rcParams['axes.titlesize'] = LARGE_SIZE\n",
    "\n",
    "    # Axes label size\n",
    "    plt.rcParams['axes.labelsize'] = NORMAL_SIZE\n",
    "\n",
    "    # Tick label size\n",
    "    plt.rcParams['xtick.labelsize'] = SMALL_SIZE\n",
    "    plt.rcParams['ytick.labelsize'] = SMALL_SIZE\n",
    "    \n",
    "    # Legend text size\n",
    "    plt.rcParams['legend.fontsize'] = SMALL_SIZE\n",
    "    \n",
    "    plt.rcParams['font.size'] = NORMAL_SIZE\n",
    "    \n",
    "    plt.rcParams['legend.fontsize'] = NORMAL_SIZE\n",
    "    \n",
    "\n",
    "    # Grid color\n",
    "    plt.rcParams['grid.color'] = '#cccccc'\n",
    "\n",
    "    # Define plot size\n",
    "    plt.rcParams['figure.figsize'] = [12, 8]\n",
    "\n",
    "    # Marker size\n",
    "    plt.rcParams['lines.markersize'] = 10\n",
    "    \n",
    "\n",
    "def show_image(image, title, title_y_offset, apertures=None):\n",
    "    \"\"\"\n",
    "    Display an image.\n",
    "    \n",
    "    Parameters\n",
    "    ---------\n",
    "    \n",
    "    image: astropy.nddata.ccddata.CCDData\n",
    "        A fits image to show.\n",
    "        \n",
    "    title: str\n",
    "        Plot title.\n",
    "        \n",
    "    apertures: list of CircularAperture\n",
    "        List of apertures to plot over the image, optional.\n",
    "        \n",
    "    title_y_offset: float\n",
    "        The offset of the title position.\n",
    "    \"\"\"\n",
    "    \n",
    "    # Scale the image similar to 'zscale' mode in DS9.\n",
    "    # This makes easier to spot things in the image.\n",
    "    interval=ZScaleInterval()\n",
    "    vmin, vmax = interval.get_limits(image)\n",
    "    norm = ImageNormalize(vmin=vmin, vmax=vmax)\n",
    "    \n",
    "    plt.imshow(image, cmap='gray', norm=norm)  # Set color map and pixel scaling\n",
    "    plt.xlabel('x [pixel]')  # Set axis labels\n",
    "    plt.ylabel('y [pixel]')\n",
    "    plt.title(title, y=title_y_offset)  # Set image title\n",
    "    plt.colorbar()  # Show color bar\n",
    "    \n",
    "    # Expand the plot to the edges\n",
    "    plt.tight_layout()\n",
    "    \n",
    "    if apertures is not None:\n",
    "        apertures.plot(color='#33ff33', lw=2, alpha=0.8)\n",
    "    \n",
    "    \n",
    "set_plot_style()"
   ]
  },
  {
   "cell_type": "code",
   "execution_count": 2,
   "metadata": {},
   "outputs": [
    {
     "name": "stdout",
     "output_type": "stream",
     "text": [
      "We are done!\n"
     ]
    }
   ],
   "source": [
    "print(\"We are done!\")"
   ]
  }
 ],
 "metadata": {
  "kernelspec": {
   "display_name": "Python 3",
   "language": "python",
   "name": "python3"
  },
  "language_info": {
   "codemirror_mode": {
    "name": "ipython",
    "version": 3
   },
   "file_extension": ".py",
   "mimetype": "text/x-python",
   "name": "python",
   "nbconvert_exporter": "python",
   "pygments_lexer": "ipython3",
   "version": "3.7.6"
  }
 },
 "nbformat": 4,
 "nbformat_minor": 4
}
