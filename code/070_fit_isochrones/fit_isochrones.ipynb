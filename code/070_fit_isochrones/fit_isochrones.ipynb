{
 "cells": [
  {
   "cell_type": "markdown",
   "metadata": {},
   "source": [
    "# Calculate magnitudes of the stars"
   ]
  },
  {
   "cell_type": "markdown",
   "metadata": {},
   "source": [
    "Written by Evgenii N.\n",
    "\n",
    "This code calculates the magnitudes of stars."
   ]
  },
  {
   "cell_type": "markdown",
   "metadata": {},
   "source": [
    "## Prerequisite code"
   ]
  },
  {
   "cell_type": "code",
   "execution_count": 1,
   "metadata": {},
   "outputs": [],
   "source": [
    "# Import libraries that we will use later in this notebook\n",
    "import matplotlib.pyplot as plt\n",
    "\n",
    "# Make images non-blurry on high pixel density screens\n",
    "%config InlineBackend.figure_format = 'retina'\n",
    "\n",
    "\n",
    "def set_plot_style():\n",
    "    \"\"\"Set global style\"\"\"\n",
    "\n",
    "    # Title size\n",
    "    plt.rcParams['axes.titlesize'] = 17\n",
    "\n",
    "    # Axes label size\n",
    "    plt.rcParams['axes.labelsize'] = 15\n",
    "\n",
    "    # Tick label size\n",
    "    plt.rcParams['xtick.labelsize'] = 13\n",
    "    plt.rcParams['ytick.labelsize'] = 13\n",
    "    \n",
    "    # Legend text size\n",
    "    plt.rcParams['legend.fontsize'] = 13\n",
    "\n",
    "    # Grid color\n",
    "    plt.rcParams['grid.color'] = '#cccccc'\n",
    "\n",
    "    # Define plot size\n",
    "    plt.rcParams['figure.figsize'] = [12, 8]\n",
    "\n",
    "    # Marker size\n",
    "    plt.rcParams['lines.markersize'] = 10\n",
    "    \n",
    "    \n",
    "set_plot_style()"
   ]
  },
  {
   "cell_type": "code",
   "execution_count": 2,
   "metadata": {},
   "outputs": [
    {
     "name": "stdout",
     "output_type": "stream",
     "text": [
      "We are done!\n"
     ]
    }
   ],
   "source": [
    "print(\"We are done!\")"
   ]
  }
 ],
 "metadata": {
  "kernelspec": {
   "display_name": "Python 3",
   "language": "python",
   "name": "python3"
  },
  "language_info": {
   "codemirror_mode": {
    "name": "ipython",
    "version": 3
   },
   "file_extension": ".py",
   "mimetype": "text/x-python",
   "name": "python",
   "nbconvert_exporter": "python",
   "pygments_lexer": "ipython3",
   "version": "3.7.6"
  }
 },
 "nbformat": 4,
 "nbformat_minor": 4
}
