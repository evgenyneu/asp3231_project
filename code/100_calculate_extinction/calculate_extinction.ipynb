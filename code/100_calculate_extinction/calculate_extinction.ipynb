{
 "cells": [
  {
   "cell_type": "markdown",
   "metadata": {},
   "source": [
    "# Calculating extinction and reddening values\n",
    "\n",
    "Written by Evgenii N.\n"
   ]
  },
  {
   "cell_type": "markdown",
   "metadata": {},
   "source": [
    "We want to fit Girardi isochrones for different combinations of filters: B-I, V-I, R-I etc. In order to do that we need to know the extinction (e.g. Av) and reddening numbers (e.g. E(B-V))."
   ]
  },
  {
   "cell_type": "code",
   "execution_count": 1,
   "metadata": {},
   "outputs": [],
   "source": [
    "# Import the libraries\n",
    "import os\n",
    "import pandas as pd\n",
    "from tabulate import tabulate"
   ]
  },
  {
   "cell_type": "code",
   "execution_count": 2,
   "metadata": {},
   "outputs": [],
   "source": [
    "def calculate_extinction(filter_name, relative_extinctions, a_v):\n",
    "    \"\"\"\n",
    "    Calculate light extinction for each filter.\n",
    "    \n",
    "    Parameters\n",
    "    -----------\n",
    "    \n",
    "    filter_name: float\n",
    "        Name of a filter, i.e. \"B\", \"I\" etc.\n",
    "        \n",
    "    relative_extinctions: dict\n",
    "       key: str\n",
    "           Name of filter\n",
    "       value: float\n",
    "           Value A_lambda / A_V, the ratio of the current filter's extinction to\n",
    "           the extinction for the V-band `a_v`.\n",
    "           \n",
    "    a_v: float\n",
    "        The light extinction for the visual band.\n",
    "    \n",
    "    Returns\n",
    "    ---------\n",
    "    \n",
    "    Light extinction value for the given filter.\n",
    "    \"\"\"\n",
    "\n",
    "    return relative_extinctions[filter_name] * a_v\n",
    "\n",
    "def save_to_csv(data_dir, extinctions):\n",
    "    \"\"\"\n",
    "    Save extinctions to a csv file.\n",
    "    \n",
    "    Parameters\n",
    "    ----------\n",
    "    \n",
    "    data_dir: str\n",
    "        Name of the directory for the data file.\n",
    "        \n",
    "    extinctions: dict\n",
    "        key: str\n",
    "            Filter name, i.e. \"B\", \"I\" etc.\n",
    "        value: float\n",
    "            Light extinction value for the filter.\n",
    "            \n",
    "    Return\n",
    "    ------\n",
    "    \n",
    "    pandas.core.frame.DataFrame\n",
    "        Table containing the extinctions.\n",
    "    \"\"\"\n",
    "\n",
    "    s = pd.Series(extinctions, name='Extinction')\n",
    "    s.index.name = 'Filter'\n",
    "\n",
    "    if not os.path.isdir(data_dir):\n",
    "        os.mkdir(data_dir)\n",
    "\n",
    "    path_to_csv = os.path.join(data_dir, \"extinctions.csv\")\n",
    "    s.to_csv(path_to_csv)\n",
    "    return pd.DataFrame(s)\n",
    "    \n",
    "def calculate_extinctions(relative_extinctions):\n",
    "    \"\"\"\n",
    "    Calculate extinctions for all filters.\n",
    "    \n",
    "    Parameters\n",
    "    ----------\n",
    "    \n",
    "    relative_extinctions: dict\n",
    "       key: str\n",
    "           Name of filter\n",
    "       value: float\n",
    "           Value A_lambda / A_V, the ratio of the current filter's extinction to\n",
    "           the extinction for the V-band `a_v`.\n",
    "           \n",
    "    Returns\n",
    "    --------\n",
    "    \n",
    "    Dictionary containing extinction values for all filters.\n",
    "    \n",
    "    dict\n",
    "        key: str\n",
    "            Filter name, i.e. \"B\", \"I\" etc.\n",
    "        value: float\n",
    "            Light extinction value for the filter.\n",
    "    \n",
    "    \"\"\"\n",
    "    \n",
    "    # Get names of filters into a list\n",
    "    filter_names = relative_extinctions.keys()\n",
    "\n",
    "    return {\n",
    "        filter_name: calculate_extinction(\n",
    "            filter_name=filter_name, relative_extinctions=relative_extinctions, a_v=a_v)\n",
    "        for filter_name in filter_names\n",
    "    }"
   ]
  },
  {
   "cell_type": "code",
   "execution_count": 3,
   "metadata": {},
   "outputs": [
    {
     "name": "stdout",
     "output_type": "stream",
     "text": [
      "\n",
      "Table 1: Extinction values for bands.\n",
      "\n",
      "| Filter   |   Extinction [mag] |\n",
      "|----------|--------------------|\n",
      "| B        |               0.59 |\n",
      "| V        |               0.43 |\n",
      "| R        |               0.35 |\n",
      "| I        |               0.25 |\n"
     ]
    }
   ],
   "source": [
    "# Reddening E(B-V)\n",
    "# Alcaino 1976, https://ui.adsabs.harvard.edu/abs/1976A%26AS...26..251A/abstract\n",
    "e_b_minus_v = 0.14\n",
    "\n",
    "# Rotal to selective extinction ratio R(V)\n",
    "# Cardelli et al. (1989) https://ui.adsabs.harvard.edu/abs/1989ApJ...345..245C/abstract\n",
    "r_v = 3.1\n",
    "\n",
    "# Light extinction extinction A(V)\n",
    "a_v = r_v * e_b_minus_v\n",
    "\n",
    "# Values A_lambda / A_V form Table A4 in Gordon et al. (2003)\n",
    "# https://ui.adsabs.harvard.edu/abs/2003ApJ...594..279G/abstract\n",
    "#\n",
    "# For example, A_B / A_V = 1.37, A_R / A_V = 0.8 etc.\n",
    "relative_extinctions = dict(\n",
    "    B=1.37,\n",
    "    V=1.0,\n",
    "    R=0.8,\n",
    "    I=0.57\n",
    ")\n",
    "\n",
    "# Calcualte the extinctions\n",
    "extinctions = calculate_extinctions(relative_extinctions=relative_extinctions)\n",
    "\n",
    "# Save to a CSV file for later use\n",
    "df = save_to_csv(data_dir=\"data\", extinctions=extinctions)\n",
    "\n",
    "# Print the values here in a table\n",
    "print(\"\\nTable 1: Extinction values for bands.\\n\")\n",
    "headers = ['Filter', 'Extinction [mag]']\n",
    "print(tabulate(df, headers=headers, floatfmt=\".2f\", tablefmt=\"github\"))"
   ]
  },
  {
   "cell_type": "markdown",
   "metadata": {},
   "source": [
    "## Are our extinction values any good?\n",
    "\n",
    "\n",
    "Extinction values are shown in Table 1. We can see that bluer filter have higher extinction, which makes sense, because shorter wavelengths are scattered more. Also, the V-band extinction is equation 0.43, as expected, since \n",
    "\n",
    "R(V) E(B-V) = 3.1 * 0.14 = 0.43\n",
    "\n",
    "I'm happy with the results."
   ]
  },
  {
   "cell_type": "markdown",
   "metadata": {},
   "source": [
    "## How do we calculate reddening values?\n",
    "\n",
    "Now that I got all the extinction values, I can calculate the reddening value E(X-Y) for any combination of filters X,Y using the definition of reddening:\n",
    "\n",
    "$$\n",
    "E(X-Y) = A_X - A_Y,\n",
    "$$\n",
    "\n",
    "where $A_X$ and $A_Y$ are light extinction values for any two filters from Table 1."
   ]
  },
  {
   "cell_type": "code",
   "execution_count": null,
   "metadata": {},
   "outputs": [],
   "source": []
  }
 ],
 "metadata": {
  "kernelspec": {
   "display_name": "Python 3",
   "language": "python",
   "name": "python3"
  },
  "language_info": {
   "codemirror_mode": {
    "name": "ipython",
    "version": 3
   },
   "file_extension": ".py",
   "mimetype": "text/x-python",
   "name": "python",
   "nbconvert_exporter": "python",
   "pygments_lexer": "ipython3",
   "version": "3.7.6"
  }
 },
 "nbformat": 4,
 "nbformat_minor": 4
}
