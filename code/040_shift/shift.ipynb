{
 "cells": [
  {
   "cell_type": "markdown",
   "metadata": {},
   "source": [
    "# Shifting science frames"
   ]
  },
  {
   "cell_type": "markdown",
   "metadata": {},
   "source": [
    "Written by Evgenii N.\n",
    "\n",
    "The following code shifts the science frames so that stars appear at same x-y positions in all images. The input data is in `030_science_frames/data/reduced` directory and the shifted images are saved to `040_shift/data/shifted`."
   ]
  },
  {
   "cell_type": "markdown",
   "metadata": {},
   "source": [
    "## Prerequisite code"
   ]
  },
  {
   "cell_type": "code",
   "execution_count": 1,
   "metadata": {},
   "outputs": [],
   "source": [
    "# Import libraries that we will use later in this notebook\n",
    "import os\n",
    "import shutil\n",
    "import ccdproc\n",
    "import numpy as np\n",
    "from astropy.visualization import ZScaleInterval, MinMaxInterval, ImageNormalize\n",
    "from astropy import units as u\n",
    "from matplotlib.colors import LogNorm\n",
    "from ccdproc import CCDData\n",
    "import matplotlib.pyplot as plt\n",
    "\n",
    "# Make images non-blurry on high pixel density screens\n",
    "%config InlineBackend.figure_format = 'retina'\n",
    "\n",
    "# Title size\n",
    "plt.rcParams['axes.titlesize'] = 16\n",
    "\n",
    "# Axes label size\n",
    "plt.rcParams['axes.labelsize'] = 13\n",
    "\n",
    "\n",
    "def show_image(image, title):\n",
    "    \"\"\"\n",
    "    Display an image.\n",
    "    \n",
    "    Parameters\n",
    "    ---------\n",
    "    \n",
    "    image: astropy.nddata.ccddata.CCDData\n",
    "        A fits image to show.\n",
    "        \n",
    "    title: str\n",
    "        Plot title.\n",
    "    \"\"\"\n",
    "    fig, ax = plt.subplots(figsize=(12, 8))  # Change image size\n",
    "    plt.rcParams.update({'font.size': 10})  # Change font size\n",
    "    \n",
    "    # Scale the image similar to 'zscale' mode in DS9.\n",
    "    # This makes easier to spot things in the image.\n",
    "    interval=ZScaleInterval()\n",
    "    vmin, vmax = interval.get_limits(image)\n",
    "    norm = ImageNormalize(vmin=vmin, vmax=vmax)\n",
    "    \n",
    "    plt.imshow(image, cmap='gray', norm=norm)  # Set color map and pixel scaling\n",
    "    plt.xlabel('x [pixel]')  # Set axis labels\n",
    "    plt.ylabel('y [pixel]')\n",
    "    plt.title(title, y=-0.2)  # Set image title\n",
    "    plt.colorbar()  # Show color bar\n",
    "    \n",
    "\n",
    "def print_image_stats(image, title):\n",
    "    \"\"\"\n",
    "    Print first pixel value, average and standard deviation for an image.\n",
    "    \n",
    "    Parameters\n",
    "    ---------\n",
    "    \n",
    "    image: astropy.nddata.ccddata.CCDData\n",
    "        A fits image to show.\n",
    "        \n",
    "    title: str\n",
    "        Image name.\n",
    "    \"\"\"\n",
    "    \n",
    "    data = np.asarray(image)# Get numpy array for image data\n",
    "    label_len = 10  # Length of the text label\n",
    "    first_pixel = data[0, 0]  # First pixel\n",
    "    average = np.mean(data)  # Average\n",
    "    standard_deviation = np.std(data)   # Standard deviation\n",
    "\n",
    "\n",
    "    # Print values\n",
    "    # -------\n",
    "\n",
    "    print(\n",
    "        f'\\n{title}',\n",
    "        f\"\\n{'-' * len(title)}\",\n",
    "        f\"\\n{'Pixel:':<10}{first_pixel:>10.2f} ADU\",\n",
    "        f\"\\n{'Avg:':<10}{average:>10.2f} ADU\",\n",
    "        f\"\\n{'Std:':<10}{standard_deviation:>10.2f} ADU\\n\"\n",
    "    )\n",
    "    \n",
    "\n",
    "def save_image(image, file_path):\n",
    "    \"\"\"\n",
    "    Save image to disk. Overwrites the file if it already exist.\n",
    "    \n",
    "    Parameters\n",
    "    ---------\n",
    "    image: astropy.nddata.ccddata.CCDData\n",
    "        Image to be saved\n",
    "        \n",
    "    file_path: str\n",
    "        Path where the image is saved\n",
    "    \"\"\"\n",
    "    \n",
    "    # Delete the file if it already exists\n",
    "    \n",
    "    try:\n",
    "        os.remove(file_path)\n",
    "    except OSError:\n",
    "        pass\n",
    "    \n",
    "    # Create directory\n",
    "    # ------\n",
    "\n",
    "    dirname = os.path.dirname(file_path)\n",
    "    \n",
    "    if not os.path.exists(dirname):\n",
    "        os.makedirs(dirname)\n",
    "\n",
    "    image.write(file_path)"
   ]
  },
  {
   "cell_type": "markdown",
   "metadata": {},
   "source": [
    "## Program code"
   ]
  },
  {
   "cell_type": "code",
   "execution_count": 2,
   "metadata": {},
   "outputs": [],
   "source": [
    "def shift(images):\n",
    "    \"\"\"\n",
    "    The function\n",
    "    \n",
    "    Parameters\n",
    "    ----------\n",
    "        \n",
    "    images: list of astropy.nddata.ccddata.CCDData\n",
    "        List of images to be shifted\n",
    "        \n",
    "    Returns\n",
    "    --------\n",
    "    list of astropy.nddata.ccddata.CCDData\n",
    "        List of shifted images.\n",
    "    \"\"\"\n",
    "    \n",
    "    pass"
   ]
  },
  {
   "cell_type": "code",
   "execution_count": 3,
   "metadata": {},
   "outputs": [
    {
     "name": "stdout",
     "output_type": "stream",
     "text": [
      "april_30_2018\n",
      "------------------\n",
      "We are done\n"
     ]
    }
   ],
   "source": [
    "# Set Bias and Dark image paths\n",
    "# -------\n",
    "\n",
    "source_dir = '../030_science_frames/data/reduced'\n",
    "data_dir = './data/'\n",
    "\n",
    "# Shift images\n",
    "# -------\n",
    "\n",
    "nights = ['march_09_2018', 'march_29_2018', 'april_30_2018']\n",
    "nights = ['april_30_2018']\n",
    "\n",
    "# Shift images for all nights\n",
    "for night in nights:\n",
    "    print(night)\n",
    "        \n",
    "print(\"------------------\")\n",
    "print(\"We are done\")"
   ]
  }
 ],
 "metadata": {
  "kernelspec": {
   "display_name": "Python 3",
   "language": "python",
   "name": "python3"
  },
  "language_info": {
   "codemirror_mode": {
    "name": "ipython",
    "version": 3
   },
   "file_extension": ".py",
   "mimetype": "text/x-python",
   "name": "python",
   "nbconvert_exporter": "python",
   "pygments_lexer": "ipython3",
   "version": "3.7.6"
  }
 },
 "nbformat": 4,
 "nbformat_minor": 4
}
